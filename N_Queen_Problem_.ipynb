{
  "nbformat": 4,
  "nbformat_minor": 0,
  "metadata": {
    "colab": {
      "name": "N-Queen Problem (041).ipynb",
      "provenance": [],
      "collapsed_sections": [],
      "authorship_tag": "ABX9TyNJLXzs1tjTd8oCwAPVkNrg",
      "include_colab_link": true
    },
    "kernelspec": {
      "name": "python3",
      "display_name": "Python 3"
    },
    "language_info": {
      "name": "python"
    }
  },
  "cells": [
    {
      "cell_type": "markdown",
      "metadata": {
        "id": "view-in-github",
        "colab_type": "text"
      },
      "source": [
        "<a href=\"https://colab.research.google.com/github/priyanshurishi/N-Queen-Problem/blob/main/N_Queen_Problem_.ipynb\" target=\"_parent\"><img src=\"https://colab.research.google.com/assets/colab-badge.svg\" alt=\"Open In Colab\"/></a>"
      ]
    },
    {
      "cell_type": "code",
      "metadata": {
        "id": "hCNEcSBzchNR",
        "colab": {
          "base_uri": "https://localhost:8080/"
        },
        "outputId": "dad93fc7-5865-4f6b-a3f5-8d5325fb6c94"
      },
      "source": [
        "global N\n",
        "N = 4  \n",
        "def printSolution(board):\n",
        "    for i in range(N):\n",
        "        for j in range(N):\n",
        "            print (board[i][j], end = \" \")\n",
        "        print()\n",
        "def isSafe(board, row, col):\n",
        "    for i in range(col):\n",
        "        if board[row][i] == 1:\n",
        "            return False\n",
        "    for i, j in zip(range(row, -1, -1), \n",
        "                    range(col, -1, -1)):\n",
        "        if board[i][j] == 1:\n",
        "            return False\n",
        "    for i, j in zip(range(row, N, 1), \n",
        "                    range(col, -1, -1)):\n",
        "        if board[i][j] == 1:\n",
        "            return False  \n",
        "    return True  \n",
        "def solveNQUtil(board, col):\n",
        "    if col >= N:\n",
        "        return True\n",
        "    for i in range(N):\n",
        "  \n",
        "        if isSafe(board, i, col):\n",
        "\n",
        "            board[i][col] = 1\n",
        "  \n",
        "            if solveNQUtil(board, col + 1) == True:\n",
        "                return True\n",
        "            board[i][col] = 0\n",
        "    return False\n",
        "\n",
        "def solveNQ():\n",
        "    board = [ [0, 0, 0, 0],\n",
        "              [0, 0, 0, 0],\n",
        "              [0, 0, 0, 0],\n",
        "              [0, 0, 0, 0] ] \n",
        "    if solveNQUtil(board, 0) == False:\n",
        "        print (\"Solution does not exist\")\n",
        "        return False \n",
        "    printSolution(board)\n",
        "    return True\n",
        "solveNQ()"
      ],
      "execution_count": null,
      "outputs": [
        {
          "output_type": "stream",
          "name": "stdout",
          "text": [
            "0 0 1 0 \n",
            "1 0 0 0 \n",
            "0 0 0 1 \n",
            "0 1 0 0 \n"
          ]
        },
        {
          "output_type": "execute_result",
          "data": {
            "text/plain": [
              "True"
            ]
          },
          "metadata": {},
          "execution_count": 1
        }
      ]
    }
  ]
}